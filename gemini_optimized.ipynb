{
 "cells": [
  {
   "cell_type": "markdown",
   "metadata": {},
   "source": [
    "First, we complete OAuth Authentication and API setup for fine tuning a Gemini model on our data"
   ]
  },
  {
   "cell_type": "code",
   "execution_count": 2,
   "metadata": {},
   "outputs": [
    {
     "name": "stderr",
     "output_type": "stream",
     "text": [
      "c:\\Users\\jeffr\\AppData\\Local\\Programs\\Python\\Python311\\Lib\\site-packages\\tqdm\\auto.py:21: TqdmWarning: IProgress not found. Please update jupyter and ipywidgets. See https://ipywidgets.readthedocs.io/en/stable/user_install.html\n",
      "  from .autonotebook import tqdm as notebook_tqdm\n"
     ]
    },
    {
     "name": "stdout",
     "output_type": "stream",
     "text": [
      "\n",
      "Available base models: ['models/chat-bison-001', 'models/text-bison-001', 'models/embedding-gecko-001', 'models/gemini-1.0-pro', 'models/gemini-1.0-pro-001', 'models/gemini-1.0-pro-latest', 'models/gemini-1.0-pro-vision-latest', 'models/gemini-1.5-flash', 'models/gemini-1.5-flash-001', 'models/gemini-1.5-flash-latest', 'models/gemini-1.5-pro', 'models/gemini-1.5-pro-001', 'models/gemini-1.5-pro-latest', 'models/gemini-pro', 'models/gemini-pro-vision', 'models/embedding-001', 'models/text-embedding-004', 'models/aqa']\n",
      "\n",
      "Available tuned models:\n",
      "tunedModels/generate-num-3655\n",
      "tunedModels/generate-num-optimized\n",
      "tunedModels/distributed-fast-mixed\n"
     ]
    }
   ],
   "source": [
    "import os\n",
    "import google.generativeai as genai\n",
    "from load_creds import load_creds, load_iam_creds\n",
    "\n",
    "# Load credentials\n",
    "creds = load_iam_creds()\n",
    "\n",
    "# Configure generative AI with credentials\n",
    "genai.configure(credentials=creds)\n",
    "\n",
    "print()\n",
    "print('Available base models:', [m.name for m in genai.list_models()])\n",
    "\n",
    "print()\n",
    "print('Available tuned models:')\n",
    "try:\n",
    "    tuned_models = genai.list_tuned_models()\n",
    "    for i, model in enumerate(tuned_models):\n",
    "        print(model.name)\n",
    "        if i >= 4:  # Limit to first 5 models\n",
    "            break\n",
    "except Exception as e:\n",
    "    print(f\"Error listing tuned models: {e}\")\n",
    "\n"
   ]
  },
  {
   "cell_type": "code",
   "execution_count": 11,
   "metadata": {},
   "outputs": [
    {
     "data": {
      "text/plain": [
       "Model(name='models/gemini-1.0-pro-001',\n",
       "      base_model_id='',\n",
       "      version='001',\n",
       "      display_name='Gemini 1.0 Pro 001 (Tuning)',\n",
       "      description=('The best model for scaling across a wide range of tasks. This is a stable '\n",
       "                   'model that supports tuning.'),\n",
       "      input_token_limit=30720,\n",
       "      output_token_limit=2048,\n",
       "      supported_generation_methods=['generateContent', 'countTokens', 'createTunedModel'],\n",
       "      temperature=0.9,\n",
       "      max_temperature=None,\n",
       "      top_p=1.0,\n",
       "      top_k=None)"
      ]
     },
     "execution_count": 11,
     "metadata": {},
     "output_type": "execute_result"
    }
   ],
   "source": [
    "base_model = [\n",
    "    m for m in genai.list_models()\n",
    "    if \"createTunedModel\" in m.supported_generation_methods][0]\n",
    "base_model"
   ]
  },
  {
   "cell_type": "code",
   "execution_count": 12,
   "metadata": {},
   "outputs": [
    {
     "name": "stdout",
     "output_type": "stream",
     "text": [
      "Size: 377\n"
     ]
    }
   ],
   "source": [
    "import csv\n",
    "\n",
    "def read_csv_and_format(file_path):\n",
    "    training_data = []\n",
    "\n",
    "    with open(file_path, mode='r', newline='', encoding='utf-8') as file:\n",
    "        reader = csv.DictReader(file)\n",
    "        for row in reader:\n",
    "            question = row['Question'].strip()\n",
    "            answer = row['Answer'].strip()\n",
    "            training_data.append({\n",
    "                'question': question,\n",
    "                'answer': answer\n",
    "            })\n",
    "    \n",
    "    return training_data\n",
    "\n",
    "csv_file = 'qa_datasets/distributed_complex.csv'\n",
    "training_data = read_csv_and_format(csv_file)\n",
    "# print(training_data)\n",
    "print(f\"Size: {len(training_data)}\")\n"
   ]
  },
  {
   "cell_type": "code",
   "execution_count": 13,
   "metadata": {},
   "outputs": [],
   "source": [
    "import random\n",
    "\n",
    "name = f'generate-num-optimized'\n",
    "\n",
    "# Create tuned model with SDK (epochs and batch optimized from gemini_tuning.ipynb)\n",
    "operation = genai.create_tuned_model(\n",
    "    source_model=base_model.name,\n",
    "    training_data=training_data,\n",
    "    id=name,\n",
    "    epoch_count=15,\n",
    "    batch_size=8,\n",
    "    learning_rate=0.001,\n",
    "    input_key='question', \n",
    "    output_key='answer'   \n",
    ")\n"
   ]
  },
  {
   "cell_type": "code",
   "execution_count": 16,
   "metadata": {},
   "outputs": [
    {
     "name": "stderr",
     "output_type": "stream",
     "text": [
      "100%|██████████| 707/707 [27:17<00:00,  2.32s/it]  \n"
     ]
    }
   ],
   "source": [
    "model = genai.get_tuned_model(f'tunedModels/{name}')\n",
    "model\n",
    "\n",
    "# Get state of model, irrelevant when training is complete\n",
    "model.state\n",
    "\n",
    "operation.metadata\n",
    "\n",
    "import time\n",
    "for status in operation.wait_bar():\n",
    "  time.sleep(5)"
   ]
  },
  {
   "cell_type": "code",
   "execution_count": 25,
   "metadata": {},
   "outputs": [
    {
     "name": "stdout",
     "output_type": "stream",
     "text": [
      "last mean loss: 0.5254588\n"
     ]
    },
    {
     "data": {
      "image/png": "[encoded data removed]",
      "text/plain": [
       "<Figure size 640x480 with 1 Axes>"
      ]
     },
     "metadata": {},
     "output_type": "display_data"
    }
   ],
   "source": [
    "# Plot loss curve\n",
    "import matplotlib.pyplot as plt\n",
    "import pandas as pd\n",
    "import seaborn as sns\n",
    "\n",
    "model = operation.result()\n",
    "\n",
    "snapshots = pd.DataFrame(model.tuning_task.snapshots)\n",
    "\n",
    "sns.lineplot(data=snapshots, x='epoch', y='mean_loss')\n",
    "\n",
    "last_epoch = snapshots['epoch'].max()\n",
    "mean_loss_last_epoch = snapshots.loc[snapshots['epoch'] == last_epoch, 'mean_loss'].values[0]\n",
    "print(f'last mean loss: {mean_loss_last_epoch}')\n",
    "plt.show()\n"
   ]
  },
  {
   "cell_type": "code",
   "execution_count": 18,
   "metadata": {},
   "outputs": [
    {
     "name": "stdout",
     "output_type": "stream",
     "text": [
      "Collision resistance is a property where it is computationally infeasible to find two distinct inputs that produce the same hash output. This is relevant to cryptocurrencies because it ensures that different transactions cannot be fraudulently linked to the same hash, maintaining the integrity and security of the blockchain. (ref)\n"
     ]
    }
   ],
   "source": [
    "import os\n",
    "from sklearn.feature_extraction.text import TfidfVectorizer\n",
    "from sklearn.metrics.pairwise import cosine_similarity\n",
    "import numpy as np\n",
    "import re\n",
    "\n",
    "model = genai.GenerativeModel(model_name=f'tunedModels/generate-num-optimized')\n",
    "\n",
    "def preprocess_text(text):\n",
    "    # Convert to lowercase and remove punctuation\n",
    "    return re.sub(r'[^\\w\\s]', '', text.lower())\n",
    "\n",
    "def get_relevant_passages(question, reference_text, num_passages=3, passage_length=200):\n",
    "    # Preprocess the question and reference text\n",
    "    processed_question = preprocess_text(question)\n",
    "    processed_reference = preprocess_text(reference_text)\n",
    "    \n",
    "    # Split the reference text into passages\n",
    "    passages = [processed_reference[i:i+passage_length] for i in range(0, len(processed_reference), passage_length)]\n",
    "    \n",
    "    # Create TF-IDF vectors\n",
    "    vectorizer = TfidfVectorizer()\n",
    "    tfidf_matrix = vectorizer.fit_transform(passages + [processed_question])\n",
    "    \n",
    "    # Calculate cosine similarity between question and passages\n",
    "    cosine_similarities = cosine_similarity(tfidf_matrix[-1], tfidf_matrix[:-1])\n",
    "    \n",
    "    # Get indices of top similar passages\n",
    "    top_passage_indices = cosine_similarities.argsort()[0][-num_passages:][::-1]\n",
    "    \n",
    "    # Return original (non-processed) passages\n",
    "    return [reference_text[i*passage_length:(i+1)*passage_length] for i in top_passage_indices]\n",
    "\n",
    "# Read reference material from file\n",
    "reference_file_path = 'qa_datasets/reference.txt'\n",
    "if os.path.exists(reference_file_path):\n",
    "    with open(reference_file_path, 'r') as file:\n",
    "        reference_material = file.read()\n",
    "else:\n",
    "    print(f\"Warning: Reference file '{reference_file_path}' not found.\")\n",
    "    reference_material = \"\"\n",
    "\n",
    "# Define your question\n",
    "question = \"What is collision resistance? Why is it relevant to cryptocurrencies?\"\n",
    "\n",
    "# Get relevant passages\n",
    "relevant_passages = get_relevant_passages(question, reference_material)\n",
    "\n",
    "# Create the full prompt\n",
    "full_prompt = f\"\"\"\n",
    "{question}\n",
    "\n",
    "Relevant Reference Material:\n",
    "{\"\".join(relevant_passages)}\n",
    "\n",
    "Please reference the text material provided to answer this question. If the question info is not found in the reference material, pull upon your own knowledge, and add (ext) at the end of your response, otherwise if you used info from the reference, put (ref) at the end.\n",
    "\"\"\"\n",
    "# print(relevant_passages)\n",
    "result = model.generate_content(full_prompt)\n",
    "\n",
    "# Reformat with markdown\n",
    "ans_formatted = f\"{result.text}\"\n",
    "print(ans_formatted)"
   ]
  },
  {
   "cell_type": "markdown",
   "metadata": {},
   "source": [
    "Below is a quick implementation for deploying our tuned model. I will create a Flask application and web interface, then connect the backend to our tuned Gemini model. Since Jupyter handles event loops and subprocesses differently, we will use threading to run the Flask server in the background independent of other processes. \n",
    "\n",
    "I've implemented two routes for now, which is all a chatbot really needs. I've included '/' for the main page, and '/chat' for handling chat message requests."
   ]
  },
  {
   "cell_type": "code",
   "execution_count": 1,
   "metadata": {},
   "outputs": [
    {
     "name": "stderr",
     "output_type": "stream",
     "text": [
      "c:\\Users\\jeffr\\AppData\\Local\\Programs\\Python\\Python311\\Lib\\site-packages\\tqdm\\auto.py:21: TqdmWarning: IProgress not found. Please update jupyter and ipywidgets. See https://ipywidgets.readthedocs.io/en/stable/user_install.html\n",
      "  from .autonotebook import tqdm as notebook_tqdm\n"
     ]
    },
    {
     "name": "stdout",
     "output_type": "stream",
     "text": [
      " * Serving Flask app '__main__'\n",
      " * Debug mode: on\n"
     ]
    },
    {
     "name": "stderr",
     "output_type": "stream",
     "text": [
      "WARNING: This is a development server. Do not use it in a production deployment. Use a production WSGI server instead.\n",
      " * Running on http://127.0.0.1:5000\n",
      "Press CTRL+C to quit\n"
     ]
    }
   ],
   "source": [
    "import random\n",
    "import threading\n",
    "from flask import Flask, request, jsonify, render_template_string\n",
    "import google.generativeai as genai\n",
    "\n",
    "app = Flask(__name__)\n",
    "\n",
    "# Load your tuned model\n",
    "model_name = 'your-tuned-model-id'  # Replace with your tuned model ID\n",
    "model = genai.GenerativeModel(model_name=f'tunedModels/{model_name}')\n",
    "\n",
    "@app.route('/')\n",
    "def index():\n",
    "    return render_template_string('''\n",
    "    <!DOCTYPE html>\n",
    "    <html lang=\"en\">\n",
    "    <head>\n",
    "        <meta charset=\"UTF-8\">\n",
    "        <title>Distributed Computing Chatbot</title>\n",
    "        <style>\n",
    "            body {\n",
    "                font-family: Arial, sans-serif;\n",
    "                margin: 50px;\n",
    "                background-color: #121212;\n",
    "                color: #E0E0E0;\n",
    "            }\n",
    "            #chatbox {\n",
    "                width: 100%;\n",
    "                height: 300px;\n",
    "                border: 1px solid #333;\n",
    "                padding: 10px;\n",
    "                overflow-y: scroll;\n",
    "                background-color: #1E1E1E;\n",
    "                color: #E0E0E0;\n",
    "            }\n",
    "            .message {\n",
    "                margin: 10px 0;\n",
    "            }\n",
    "            .user {\n",
    "                text-align: right;\n",
    "                color: #90CAF9;\n",
    "            }\n",
    "            .bot {\n",
    "                text-align: left;\n",
    "                color: #A5D6A7;\n",
    "            }\n",
    "            input[type=\"text\"] {\n",
    "                background-color: #1E1E1E;\n",
    "                color: #E0E0E0;\n",
    "                border: 1px solid #333;\n",
    "                padding: 10px;\n",
    "                width: 80%;\n",
    "            }\n",
    "            button {\n",
    "                background-color: #333;\n",
    "                color: #E0E0E0;\n",
    "                border: 1px solid #555;\n",
    "                padding: 10px;\n",
    "            }\n",
    "            button:hover {\n",
    "                background-color: #444;\n",
    "            }\n",
    "        </style>\n",
    "    </head>\n",
    "    <body>\n",
    "        <h1>Distributed Computing Chatbot</h1>\n",
    "        <div id=\"chatbox\"></div>\n",
    "        <input type=\"text\" id=\"userInput\" placeholder=\"Type your message here\">\n",
    "        <button onclick=\"sendMessage()\">Send</button>\n",
    "\n",
    "        <script>\n",
    "            function sendMessage() {\n",
    "                const userInput = document.getElementById('userInput').value;\n",
    "                if (userInput.trim() === '') return;\n",
    "\n",
    "                const chatbox = document.getElementById('chatbox');\n",
    "                const userMessage = document.createElement('div');\n",
    "                userMessage.className = 'message user';\n",
    "                userMessage.textContent = userInput;\n",
    "                chatbox.appendChild(userMessage);\n",
    "                document.getElementById('userInput').value = '';\n",
    "\n",
    "                fetch('/chat', {\n",
    "                    method: 'POST',\n",
    "                    headers: {\n",
    "                        'Content-Type': 'application/json'\n",
    "                    },\n",
    "                    body: JSON.stringify({ message: userInput })\n",
    "                })\n",
    "                .then(response => response.json())\n",
    "                .then(data => {\n",
    "                    const botMessage = document.createElement('div');\n",
    "                    botMessage.className = 'message bot';\n",
    "                    botMessage.textContent = data.response;\n",
    "                    chatbox.appendChild(botMessage);\n",
    "                    chatbox.scrollTop = chatbox.scrollHeight;\n",
    "                })\n",
    "                .catch(error => {\n",
    "                    console.error('Error:', error);\n",
    "                });\n",
    "            }\n",
    "        </script>\n",
    "    </body>\n",
    "    </html>\n",
    "    ''')\n",
    "\n",
    "@app.route('/chat', methods=['POST'])\n",
    "def chat():\n",
    "    user_input = request.json['message']\n",
    "    result = model.generate_content(user_input)\n",
    "    return jsonify({'response': result.text})\n",
    "\n",
    "def run_app():\n",
    "    app.run(debug=True, use_reloader=False)\n",
    "\n",
    "# Start Flask app in a separate thread\n",
    "threading.Thread(target=run_app).start()\n"
   ]
  }
 ],
 "metadata": {
  "kernelspec": {
   "display_name": "Python 3",
   "language": "python",
   "name": "python3"
  },
  "language_info": {
   "codemirror_mode": {
    "name": "ipython",
    "version": 3
   },
   "file_extension": ".py",
   "mimetype": "text/x-python",
   "name": "python",
   "nbconvert_exporter": "python",
   "pygments_lexer": "ipython3",
   "version": "3.11.4"
  }
 },
 "nbformat": 4,
 "nbformat_minor": 2
}
