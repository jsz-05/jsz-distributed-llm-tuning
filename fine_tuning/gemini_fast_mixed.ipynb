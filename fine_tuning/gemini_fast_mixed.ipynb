{
 "cells": [
  {
   "cell_type": "markdown",
   "metadata": {},
   "source": [
    "First, we complete OAuth Authentication and API setup for fine tuning a Gemini model on our data"
   ]
  },
  {
   "cell_type": "code",
   "execution_count": 33,
   "metadata": {},
   "outputs": [
    {
     "name": "stdout",
     "output_type": "stream",
     "text": [
      "\n",
      "Available base models: ['models/chat-bison-001', 'models/text-bison-001', 'models/embedding-gecko-001', 'models/gemini-1.0-pro', 'models/gemini-1.0-pro-001', 'models/gemini-1.0-pro-latest', 'models/gemini-1.0-pro-vision-latest', 'models/gemini-1.5-flash', 'models/gemini-1.5-flash-001', 'models/gemini-1.5-flash-latest', 'models/gemini-1.5-pro', 'models/gemini-1.5-pro-001', 'models/gemini-1.5-pro-latest', 'models/gemini-pro', 'models/gemini-pro-vision', 'models/embedding-001', 'models/text-embedding-004', 'models/aqa']\n",
      "\n",
      "Available tuned models:\n",
      "tunedModels/generate-num-3655\n",
      "tunedModels/generate-num-optimized\n"
     ]
    }
   ],
   "source": [
    "import os\n",
    "import google.generativeai as genai\n",
    "from load_creds import load_creds, load_iam_creds\n",
    "\n",
    "# Load credentials\n",
    "creds = load_iam_creds()\n",
    "\n",
    "# Configure generative AI with credentials\n",
    "genai.configure(credentials=creds)\n",
    "\n",
    "print()\n",
    "print('Available base models:', [m.name for m in genai.list_models()])\n",
    "\n",
    "print()\n",
    "print('Available tuned models:')\n",
    "try:\n",
    "    tuned_models = genai.list_tuned_models()\n",
    "    for i, model in enumerate(tuned_models):\n",
    "        print(model.name)\n",
    "        if i >= 4:  # Limit to first 5 models\n",
    "            break\n",
    "except Exception as e:\n",
    "    print(f\"Error listing tuned models: {e}\")\n",
    "\n"
   ]
  },
  {
   "cell_type": "code",
   "execution_count": 35,
   "metadata": {},
   "outputs": [
    {
     "data": {
      "text/plain": [
       "Model(name='models/gemini-1.0-pro-001',\n",
       "      base_model_id='',\n",
       "      version='001',\n",
       "      display_name='Gemini 1.0 Pro 001 (Tuning)',\n",
       "      description=('The best model for scaling across a wide range of tasks. This is a stable '\n",
       "                   'model that supports tuning.'),\n",
       "      input_token_limit=30720,\n",
       "      output_token_limit=2048,\n",
       "      supported_generation_methods=['generateContent', 'countTokens', 'createTunedModel'],\n",
       "      temperature=0.9,\n",
       "      max_temperature=None,\n",
       "      top_p=1.0,\n",
       "      top_k=None)"
      ]
     },
     "execution_count": 35,
     "metadata": {},
     "output_type": "execute_result"
    }
   ],
   "source": [
    "base_model = [\n",
    "    m for m in genai.list_models()\n",
    "    if \"createTunedModel\" in m.supported_generation_methods][0]\n",
    "base_model"
   ]
  },
  {
   "cell_type": "code",
   "execution_count": 34,
   "metadata": {},
   "outputs": [
    {
     "name": "stdout",
     "output_type": "stream",
     "text": [
      "Size: 597\n"
     ]
    }
   ],
   "source": [
    "import csv\n",
    "\n",
    "def read_csv_and_format(file_path):\n",
    "    training_data = []\n",
    "\n",
    "    with open(file_path, mode='r', newline='', encoding='utf-8') as file:\n",
    "        reader = csv.DictReader(file)\n",
    "        for row in reader:\n",
    "            question = row['Question'].strip()\n",
    "            answer = row['Answer'].strip()\n",
    "            training_data.append({\n",
    "                'question': question,\n",
    "                'answer': answer\n",
    "            })\n",
    "    \n",
    "    return training_data\n",
    "\n",
    "csv_file = 'datasets/distributed_mixed.csv'\n",
    "training_data = read_csv_and_format(csv_file)\n",
    "# print(training_data)\n",
    "print(f\"Size: {len(training_data)}\")\n"
   ]
  },
  {
   "cell_type": "code",
   "execution_count": 36,
   "metadata": {},
   "outputs": [],
   "source": [
    "import random\n",
    "\n",
    "name = f'distributed-fast-mixed'\n",
    "\n",
    "# Create tuned model with SDK (epochs and batch optimized from gemini_tuning.ipynb)\n",
    "operation = genai.create_tuned_model(\n",
    "    source_model=base_model.name,\n",
    "    training_data=training_data,\n",
    "    id=name,\n",
    "    epoch_count=20,\n",
    "    batch_size=10,\n",
    "    learning_rate=0.001,\n",
    "    input_key='question', \n",
    "    output_key='answer'   \n",
    ")\n"
   ]
  },
  {
   "cell_type": "code",
   "execution_count": 37,
   "metadata": {},
   "outputs": [
    {
     "name": "stderr",
     "output_type": "stream",
     "text": [
      "100%|██████████| 1194/1194 [2:16:15<00:00,  6.85s/it]   \n"
     ]
    }
   ],
   "source": [
    "name = f'distributed-fast-mixed'\n",
    "model = genai.get_tuned_model(f'tunedModels/{name}')\n",
    "model\n",
    "\n",
    "# Get state of model, irrelevant when training is complete\n",
    "model.state\n",
    "\n",
    "operation.metadata\n",
    "\n",
    "import time\n",
    "for status in operation.wait_bar():\n",
    "  time.sleep(5)"
   ]
  },
  {
   "cell_type": "code",
   "execution_count": 38,
   "metadata": {},
   "outputs": [
    {
     "name": "stdout",
     "output_type": "stream",
     "text": [
      "last mean loss: 0.4228085\n"
     ]
    },
    {
     "data": {
      "image/png": "[encoded data removed]",
      "text/plain": [
       "<Figure size 640x480 with 1 Axes>"
      ]
     },
     "metadata": {},
     "output_type": "display_data"
    }
   ],
   "source": [
    "# Plot loss curve\n",
    "import matplotlib.pyplot as plt\n",
    "import pandas as pd\n",
    "import seaborn as sns\n",
    "\n",
    "model = operation.result()\n",
    "\n",
    "snapshots = pd.DataFrame(model.tuning_task.snapshots)\n",
    "\n",
    "sns.lineplot(data=snapshots, x='epoch', y='mean_loss')\n",
    "\n",
    "last_epoch = snapshots['epoch'].max()\n",
    "mean_loss_last_epoch = snapshots.loc[snapshots['epoch'] == last_epoch, 'mean_loss'].values[0]\n",
    "print(f'last mean loss: {mean_loss_last_epoch}')\n",
    "plt.show()\n",
    "\n",
    "# last mean loss: 0.5540632\n"
   ]
  },
  {
   "cell_type": "code",
   "execution_count": 39,
   "metadata": {},
   "outputs": [
    {
     "name": "stdout",
     "output_type": "stream",
     "text": [
      "Hello! How can I assist you today?\n"
     ]
    }
   ],
   "source": [
    "model = genai.GenerativeModel(model_name=f'tunedModels/distributed-fast-mixed')\n",
    "result = model.generate_content('hi')\n",
    "\n",
    "# Reformat with markdown\n",
    "ans_formatted = f\"{result.text}\"\n",
    "print(ans_formatted)"
   ]
  }
 ],
 "metadata": {
  "kernelspec": {
   "display_name": "Python 3",
   "language": "python",
   "name": "python3"
  },
  "language_info": {
   "codemirror_mode": {
    "name": "ipython",
    "version": 3
   },
   "file_extension": ".py",
   "mimetype": "text/x-python",
   "name": "python",
   "nbconvert_exporter": "python",
   "pygments_lexer": "ipython3",
   "version": "3.11.4"
  }
 },
 "nbformat": 4,
 "nbformat_minor": 2
}
